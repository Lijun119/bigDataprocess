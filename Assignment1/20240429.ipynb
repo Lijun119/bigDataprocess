{
  "nbformat": 4,
  "nbformat_minor": 0,
  "metadata": {
    "colab": {
      "provenance": []
    },
    "kernelspec": {
      "name": "python3",
      "display_name": "Python 3"
    },
    "language_info": {
      "name": "python"
    }
  },
  "cells": [
    {
      "cell_type": "code",
      "execution_count": 1,
      "metadata": {
        "colab": {
          "base_uri": "https://localhost:8080/"
        },
        "id": "D22aHwR11PLq",
        "outputId": "229fa923-7f07-4741-ecc0-900b384443d9"
      },
      "outputs": [
        {
          "output_type": "stream",
          "name": "stdout",
          "text": [
            "  48   4   8  45   3  61  86  66  36  48"
          ]
        }
      ],
      "source": [
        "import random\n",
        "for i in range(1,11):\n",
        "  randNum = random.randint(1,100)\n",
        "  print('%4d'%(randNum),end= '')"
      ]
    },
    {
      "cell_type": "code",
      "source": [
        "import random\n",
        "even = 0\n",
        "odd = 0\n",
        "for i in range(1,11):\n",
        "  randNum = random.randint(1,100)\n",
        "  print(randNum,end = ' ')\n",
        "  if randNum % 2 == 0:\n",
        "    even += 1\n",
        "  else:\n",
        "    odd += 1\n",
        "print('\\neven = %d, odd = %d'%(even,odd))"
      ],
      "metadata": {
        "colab": {
          "base_uri": "https://localhost:8080/"
        },
        "id": "c9ekEzDV2d29",
        "outputId": "f94fa483-d684-485b-ae19-e01a05d4d8ac"
      },
      "execution_count": 2,
      "outputs": [
        {
          "output_type": "stream",
          "name": "stdout",
          "text": [
            "94 45 37 30 65 79 22 59 91 53 \n",
            "even = 3, odd = 7\n"
          ]
        }
      ]
    },
    {
      "cell_type": "code",
      "source": [
        "#Version 1\n",
        "import random\n",
        "times3 = 0\n",
        "times5 = 0\n",
        "times7 = 0\n",
        "others = 0\n",
        "for i in range(1,101):\n",
        "  flag = False\n",
        "  randNum = random.randint(1,100)\n",
        "  print(randNum,end = ' ')\n",
        "  if randNum % 3 == 0:\n",
        "    times3 += 1\n",
        "    flag = True\n",
        "  if randNum % 5 == 0:\n",
        "    times5 += 1\n",
        "    flag = True\n",
        "  if randNum % 7 == 0:\n",
        "    times7 +=1\n",
        "    flag = True\n",
        "  if flag == False:\n",
        "    others += 1\n",
        "print('\\ntimes3 = %d,times5 = %d, times7 = %d'%(times3,times5,times7))\n",
        "print('others = %d'%(others))"
      ],
      "metadata": {
        "colab": {
          "base_uri": "https://localhost:8080/"
        },
        "id": "lSuineBL7BXG",
        "outputId": "a7c184f2-99e9-4723-9ab6-b997b792da15"
      },
      "execution_count": 3,
      "outputs": [
        {
          "output_type": "stream",
          "name": "stdout",
          "text": [
            "16 64 58 48 13 36 1 20 79 91 48 58 72 51 99 15 95 5 34 20 37 11 68 18 19 16 70 4 16 71 57 74 22 40 18 26 17 65 13 94 24 16 39 2 99 61 8 45 53 94 26 83 44 87 63 20 56 63 64 93 5 67 29 77 46 8 8 51 96 64 23 25 19 53 53 76 27 55 82 4 33 6 84 51 26 75 12 27 28 24 83 54 12 99 51 90 64 38 90 62 \n",
            "times3 = 35,times5 = 16, times7 = 8\n",
            "others = 50\n"
          ]
        }
      ]
    }
  ]
}